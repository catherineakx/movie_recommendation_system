{
 "cells": [
  {
   "cell_type": "markdown",
   "metadata": {},
   "source": [
    "## Building a Recommendation System for Movies"
   ]
  },
  {
   "cell_type": "markdown",
   "metadata": {},
   "source": [
    "### Problem Statement\n",
    "With more and more consumers accessing a greater volume of movie content than before - accelerated by the COVID-19 pandemic - it has become nearly a necessity for movie streaming services and platforms to incorporate personalisation in their movie recommendations to capture the consumers' attention.\n",
    "\n",
    "In this project, we will build a Recommendation System to propose suitable movies to the end users, to boost their willingness to retain on the platform.\n",
    "\n",
    "This project is inspired by [Analytics Vidhya](https://www.analyticsvidhya.com/blog/2018/06/comprehensive-guide-recommendation-engine-python/) and [rbr7's Github](https://github.com/rbr7/CF-movie_recommendation_system/blob/master/Movie_recommender_system.ipynb)."
   ]
  },
  {
   "cell_type": "markdown",
   "metadata": {},
   "source": [
    "### About the Dataset\n",
    "We will be working on the MovieLens dataset collected by the GroupLens Research Project at the University of Minnesota. The dataset consists of: \n",
    "- 100,000 ratings (1-5) from 943 users on 1,682 movies.\n",
    "- Each user has rated at least 20 movies. \n",
    "- Demographic info of the users include: age, gender, occupation, zip\n",
    "- Source: [MovieLens 100K Dataset](https://grouplens.org/datasets/movielens/100k/)\n",
    "\n",
    "\n",
    "|Dataset|Field|Data Type|Description|\n",
    "|-------|-----|---------|-----------|\n",
    "|users|user_id|integer|Unique ID assigned to user|\n",
    "|users|age|integer|Age of user|\n",
    "|users|gender|object|Gender of user|\n",
    "|users|occupation|object|Occupation of user|\n",
    "|users|zip_code|object|Address of user|\n",
    "|ratings|user_id|integer|Unique ID assigned to user|\n",
    "|ratings|movie_id|integer|Unique ID assigned to movie|\n",
    "|ratings|rating|integer|Rating that user gives to movie|\n",
    "|ratings|unix_timestamp|integer|Timestamp in which rating is given (stated in unix seconds since 1/1/1970 UTC)|\n",
    "|movies|movie_id|integer|Unique ID assigned to movie|\n",
    "|movies|movie_title|object|Title of movie|\n",
    "|movies|release_date|object|Date in which movie is released|\n",
    "|movies|video_release_date|object|Date in which video is released|\n",
    "|movies|imdb_url|object|URL to movie's IMDb page|\n",
    "|movies|unknown|integer|Unknown|\n",
    "|movies|genre_action|integer|Movie genre: Action|\n",
    "|movies|genre_adventure|integer|Movie genre: Adventure|\n",
    "|movies|genre_animation|integer|Movie genre: Animation|\n",
    "|movies|genre_children|integer|Movie genre: Children's|\n",
    "|movies|genre_comedy|integer|Movie genre: Comedy|\n",
    "|movies|genre_crime|integer|Movie genre: Crime|\n",
    "|movies|genre_documentary|integer|Movie genre: Documentary|\n",
    "|movies|genre_drama|integer|Movie genre: Drama|\n",
    "|movies|genre_fantasy|integer|Movie genre: Fantasy|\n",
    "|movies|genre_film_noir|integer|Movie genre: Film-Noir|\n",
    "|movies|genre_horror|integer|Movie genre: Horror|\n",
    "|movies|genre_musical|integer|Movie genre: Musical|\n",
    "|movies|genre_mystery|integer|Movie genre: Mystery|\n",
    "|movies|genre_romance|integer|Movie genre: Romance|\n",
    "|movies|genre_scifi|integer|Movie genre: Sci-fi|\n",
    "|movies|genre_thriller|integer|Movie genre: Thriller|\n",
    "|movies|genre_war|integer|Movie genre: War|\n",
    "|movies|genre_western|integer|Movie genre: Western|\n",
    "|train|user_id|integer|Unique ID assigned to user|\n",
    "|train|movie_id|integer|Unique ID assigned to movie|\n",
    "|train|rating|integer|Rating that user gives to movie|\n",
    "|train|unix_timestamp|integer|Timestamp in which rating is given (stated in unix seconds since 1/1/1970 UTC)|\n",
    "|test|user_id|integer|Unique ID assigned to user|\n",
    "|test|movie_id|integer|Unique ID assigned to movie|\n",
    "|test|rating|integer|Rating that user gives to movie|\n",
    "|test|unix_timestamp|integer|Timestamp in which rating is given (stated in unix seconds since 1/1/1970 UTC)|"
   ]
  },
  {
   "cell_type": "markdown",
   "metadata": {},
   "source": [
    "### 1. Introduction\n",
    "\n",
    "In this section, we will be importing the relevant Python packages and datasets required for exploratory and modelling in the subsequent sections. "
   ]
  },
  {
   "cell_type": "code",
   "execution_count": 1,
   "metadata": {},
   "outputs": [],
   "source": [
    "# import packages\n",
    "import numpy as np\n",
    "import pandas as pd\n",
    "import matplotlib.pyplot as plt\n",
    "import seaborn as sns\n",
    "from sklearn.metrics.pairwise import pairwise_distances \n",
    "from sklearn.metrics import mean_squared_error\n",
    "import math\n",
    "import scipy.sparse as sp\n",
    "from scipy.sparse.linalg import svds\n",
    "\n",
    "sns.set_style('whitegrid')\n",
    "\n",
    "%config InlineBackend.figure_format = 'retina'\n",
    "%matplotlib inline"
   ]
  },
  {
   "cell_type": "code",
   "execution_count": 2,
   "metadata": {},
   "outputs": [],
   "source": [
    "# import datasets\n",
    "\n",
    "# import users file\n",
    "users_cols = ['user_id', 'age', 'gender', 'occupation', 'zip_code']\n",
    "users_df = pd.read_csv('../data/raw/u.user', sep='|', names=users_cols, encoding='latin-1')\n",
    "\n",
    "# import ratings file\n",
    "ratings_cols = ['user_id', 'movie_id', 'rating', 'unix_timestamp']\n",
    "ratings_df = pd.read_csv('../data/raw/u.data', sep='\\t', names=ratings_cols, encoding='latin-1')\n",
    "\n",
    "# import movies file\n",
    "movies_cols = ['movie_id', 'movie_title', 'release_date', 'video_release_date', 'imdb_url', 'unknown', 'genre_action', \n",
    "               'genre_adventure', 'genre_animation', 'genre_children', 'genre_comedy', 'genre_crime', 'genre_documentary', \n",
    "               'genre_drama', 'genre_fantasy', 'genre_film_noir', 'genre_horror', 'genre_musical', 'genre_mystery', \n",
    "               'genre_romance', 'genre_scifi', 'genre_thriller', 'genre_war', 'genre_western']\n",
    "movies_df = pd.read_csv('../data/raw/u.item', sep='|', names=movies_cols, encoding='latin-1')\n",
    "\n",
    "# import training file\n",
    "data_cols = ['user_id', 'movie_id', 'rating', 'unix_timestamp']\n",
    "train_df = pd.read_csv('../data/raw/ua.base', sep='\\t', names=data_cols, encoding='latin-1')\n",
    "test_df = pd.read_csv('../data/raw/ua.test', sep='\\t', names=data_cols, encoding='latin-1')"
   ]
  },
  {
   "cell_type": "markdown",
   "metadata": {},
   "source": [
    "### 2. Exploratory Data Analysis\n",
    "In this section, we will be looking into the details of the datasets that we have just imported. "
   ]
  },
  {
   "cell_type": "code",
   "execution_count": 3,
   "metadata": {},
   "outputs": [],
   "source": [
    "# store datasets in a list\n",
    "datasets = [(users_df,'Users'), \n",
    "            (ratings_df,'Ratings'),\n",
    "            (movies_df, 'Movies'),\n",
    "            (train_df, 'Training'), \n",
    "            (test_df, 'Test')]"
   ]
  },
  {
   "cell_type": "code",
   "execution_count": 4,
   "metadata": {},
   "outputs": [
    {
     "name": "stdout",
     "output_type": "stream",
     "text": [
      "There are 943 rows and 5 columns in the Users dataset.\n",
      "\n",
      "user_id        int64\n",
      "age            int64\n",
      "gender        object\n",
      "occupation    object\n",
      "zip_code      object\n",
      "dtype: object\n",
      "\n",
      "user_id       0\n",
      "age           0\n",
      "gender        0\n",
      "occupation    0\n",
      "zip_code      0\n",
      "dtype: int64\n",
      "\n"
     ]
    },
    {
     "data": {
      "text/html": [
       "<div>\n",
       "<style scoped>\n",
       "    .dataframe tbody tr th:only-of-type {\n",
       "        vertical-align: middle;\n",
       "    }\n",
       "\n",
       "    .dataframe tbody tr th {\n",
       "        vertical-align: top;\n",
       "    }\n",
       "\n",
       "    .dataframe thead th {\n",
       "        text-align: right;\n",
       "    }\n",
       "</style>\n",
       "<table border=\"1\" class=\"dataframe\">\n",
       "  <thead>\n",
       "    <tr style=\"text-align: right;\">\n",
       "      <th></th>\n",
       "      <th>user_id</th>\n",
       "      <th>age</th>\n",
       "      <th>gender</th>\n",
       "      <th>occupation</th>\n",
       "      <th>zip_code</th>\n",
       "    </tr>\n",
       "  </thead>\n",
       "  <tbody>\n",
       "    <tr>\n",
       "      <th>0</th>\n",
       "      <td>1</td>\n",
       "      <td>24</td>\n",
       "      <td>M</td>\n",
       "      <td>technician</td>\n",
       "      <td>85711</td>\n",
       "    </tr>\n",
       "    <tr>\n",
       "      <th>1</th>\n",
       "      <td>2</td>\n",
       "      <td>53</td>\n",
       "      <td>F</td>\n",
       "      <td>other</td>\n",
       "      <td>94043</td>\n",
       "    </tr>\n",
       "    <tr>\n",
       "      <th>2</th>\n",
       "      <td>3</td>\n",
       "      <td>23</td>\n",
       "      <td>M</td>\n",
       "      <td>writer</td>\n",
       "      <td>32067</td>\n",
       "    </tr>\n",
       "    <tr>\n",
       "      <th>3</th>\n",
       "      <td>4</td>\n",
       "      <td>24</td>\n",
       "      <td>M</td>\n",
       "      <td>technician</td>\n",
       "      <td>43537</td>\n",
       "    </tr>\n",
       "    <tr>\n",
       "      <th>4</th>\n",
       "      <td>5</td>\n",
       "      <td>33</td>\n",
       "      <td>F</td>\n",
       "      <td>other</td>\n",
       "      <td>15213</td>\n",
       "    </tr>\n",
       "  </tbody>\n",
       "</table>\n",
       "</div>"
      ],
      "text/plain": [
       "   user_id  age gender  occupation zip_code\n",
       "0        1   24      M  technician    85711\n",
       "1        2   53      F       other    94043\n",
       "2        3   23      M      writer    32067\n",
       "3        4   24      M  technician    43537\n",
       "4        5   33      F       other    15213"
      ]
     },
     "metadata": {},
     "output_type": "display_data"
    },
    {
     "name": "stdout",
     "output_type": "stream",
     "text": [
      "-----\n",
      "\n",
      "There are 100000 rows and 4 columns in the Ratings dataset.\n",
      "\n",
      "user_id           int64\n",
      "movie_id          int64\n",
      "rating            int64\n",
      "unix_timestamp    int64\n",
      "dtype: object\n",
      "\n",
      "user_id           0\n",
      "movie_id          0\n",
      "rating            0\n",
      "unix_timestamp    0\n",
      "dtype: int64\n",
      "\n"
     ]
    },
    {
     "data": {
      "text/html": [
       "<div>\n",
       "<style scoped>\n",
       "    .dataframe tbody tr th:only-of-type {\n",
       "        vertical-align: middle;\n",
       "    }\n",
       "\n",
       "    .dataframe tbody tr th {\n",
       "        vertical-align: top;\n",
       "    }\n",
       "\n",
       "    .dataframe thead th {\n",
       "        text-align: right;\n",
       "    }\n",
       "</style>\n",
       "<table border=\"1\" class=\"dataframe\">\n",
       "  <thead>\n",
       "    <tr style=\"text-align: right;\">\n",
       "      <th></th>\n",
       "      <th>user_id</th>\n",
       "      <th>movie_id</th>\n",
       "      <th>rating</th>\n",
       "      <th>unix_timestamp</th>\n",
       "    </tr>\n",
       "  </thead>\n",
       "  <tbody>\n",
       "    <tr>\n",
       "      <th>0</th>\n",
       "      <td>196</td>\n",
       "      <td>242</td>\n",
       "      <td>3</td>\n",
       "      <td>881250949</td>\n",
       "    </tr>\n",
       "    <tr>\n",
       "      <th>1</th>\n",
       "      <td>186</td>\n",
       "      <td>302</td>\n",
       "      <td>3</td>\n",
       "      <td>891717742</td>\n",
       "    </tr>\n",
       "    <tr>\n",
       "      <th>2</th>\n",
       "      <td>22</td>\n",
       "      <td>377</td>\n",
       "      <td>1</td>\n",
       "      <td>878887116</td>\n",
       "    </tr>\n",
       "    <tr>\n",
       "      <th>3</th>\n",
       "      <td>244</td>\n",
       "      <td>51</td>\n",
       "      <td>2</td>\n",
       "      <td>880606923</td>\n",
       "    </tr>\n",
       "    <tr>\n",
       "      <th>4</th>\n",
       "      <td>166</td>\n",
       "      <td>346</td>\n",
       "      <td>1</td>\n",
       "      <td>886397596</td>\n",
       "    </tr>\n",
       "  </tbody>\n",
       "</table>\n",
       "</div>"
      ],
      "text/plain": [
       "   user_id  movie_id  rating  unix_timestamp\n",
       "0      196       242       3       881250949\n",
       "1      186       302       3       891717742\n",
       "2       22       377       1       878887116\n",
       "3      244        51       2       880606923\n",
       "4      166       346       1       886397596"
      ]
     },
     "metadata": {},
     "output_type": "display_data"
    },
    {
     "name": "stdout",
     "output_type": "stream",
     "text": [
      "-----\n",
      "\n",
      "There are 1682 rows and 24 columns in the Movies dataset.\n",
      "\n",
      "movie_id                int64\n",
      "movie_title            object\n",
      "release_date           object\n",
      "video_release_date    float64\n",
      "imdb_url               object\n",
      "unknown                 int64\n",
      "genre_action            int64\n",
      "genre_adventure         int64\n",
      "genre_animation         int64\n",
      "genre_children          int64\n",
      "genre_comedy            int64\n",
      "genre_crime             int64\n",
      "genre_documentary       int64\n",
      "genre_drama             int64\n",
      "genre_fantasy           int64\n",
      "genre_film_noir         int64\n",
      "genre_horror            int64\n",
      "genre_musical           int64\n",
      "genre_mystery           int64\n",
      "genre_romance           int64\n",
      "genre_scifi             int64\n",
      "genre_thriller          int64\n",
      "genre_war               int64\n",
      "genre_western           int64\n",
      "dtype: object\n",
      "\n",
      "movie_id                 0\n",
      "movie_title              0\n",
      "release_date             1\n",
      "video_release_date    1682\n",
      "imdb_url                 3\n",
      "unknown                  0\n",
      "genre_action             0\n",
      "genre_adventure          0\n",
      "genre_animation          0\n",
      "genre_children           0\n",
      "genre_comedy             0\n",
      "genre_crime              0\n",
      "genre_documentary        0\n",
      "genre_drama              0\n",
      "genre_fantasy            0\n",
      "genre_film_noir          0\n",
      "genre_horror             0\n",
      "genre_musical            0\n",
      "genre_mystery            0\n",
      "genre_romance            0\n",
      "genre_scifi              0\n",
      "genre_thriller           0\n",
      "genre_war                0\n",
      "genre_western            0\n",
      "dtype: int64\n",
      "\n"
     ]
    },
    {
     "data": {
      "text/html": [
       "<div>\n",
       "<style scoped>\n",
       "    .dataframe tbody tr th:only-of-type {\n",
       "        vertical-align: middle;\n",
       "    }\n",
       "\n",
       "    .dataframe tbody tr th {\n",
       "        vertical-align: top;\n",
       "    }\n",
       "\n",
       "    .dataframe thead th {\n",
       "        text-align: right;\n",
       "    }\n",
       "</style>\n",
       "<table border=\"1\" class=\"dataframe\">\n",
       "  <thead>\n",
       "    <tr style=\"text-align: right;\">\n",
       "      <th></th>\n",
       "      <th>movie_id</th>\n",
       "      <th>movie_title</th>\n",
       "      <th>release_date</th>\n",
       "      <th>video_release_date</th>\n",
       "      <th>imdb_url</th>\n",
       "      <th>unknown</th>\n",
       "      <th>genre_action</th>\n",
       "      <th>genre_adventure</th>\n",
       "      <th>genre_animation</th>\n",
       "      <th>genre_children</th>\n",
       "      <th>...</th>\n",
       "      <th>genre_fantasy</th>\n",
       "      <th>genre_film_noir</th>\n",
       "      <th>genre_horror</th>\n",
       "      <th>genre_musical</th>\n",
       "      <th>genre_mystery</th>\n",
       "      <th>genre_romance</th>\n",
       "      <th>genre_scifi</th>\n",
       "      <th>genre_thriller</th>\n",
       "      <th>genre_war</th>\n",
       "      <th>genre_western</th>\n",
       "    </tr>\n",
       "  </thead>\n",
       "  <tbody>\n",
       "    <tr>\n",
       "      <th>0</th>\n",
       "      <td>1</td>\n",
       "      <td>Toy Story (1995)</td>\n",
       "      <td>01-Jan-1995</td>\n",
       "      <td>NaN</td>\n",
       "      <td>http://us.imdb.com/M/title-exact?Toy%20Story%2...</td>\n",
       "      <td>0</td>\n",
       "      <td>0</td>\n",
       "      <td>0</td>\n",
       "      <td>1</td>\n",
       "      <td>1</td>\n",
       "      <td>...</td>\n",
       "      <td>0</td>\n",
       "      <td>0</td>\n",
       "      <td>0</td>\n",
       "      <td>0</td>\n",
       "      <td>0</td>\n",
       "      <td>0</td>\n",
       "      <td>0</td>\n",
       "      <td>0</td>\n",
       "      <td>0</td>\n",
       "      <td>0</td>\n",
       "    </tr>\n",
       "    <tr>\n",
       "      <th>1</th>\n",
       "      <td>2</td>\n",
       "      <td>GoldenEye (1995)</td>\n",
       "      <td>01-Jan-1995</td>\n",
       "      <td>NaN</td>\n",
       "      <td>http://us.imdb.com/M/title-exact?GoldenEye%20(...</td>\n",
       "      <td>0</td>\n",
       "      <td>1</td>\n",
       "      <td>1</td>\n",
       "      <td>0</td>\n",
       "      <td>0</td>\n",
       "      <td>...</td>\n",
       "      <td>0</td>\n",
       "      <td>0</td>\n",
       "      <td>0</td>\n",
       "      <td>0</td>\n",
       "      <td>0</td>\n",
       "      <td>0</td>\n",
       "      <td>0</td>\n",
       "      <td>1</td>\n",
       "      <td>0</td>\n",
       "      <td>0</td>\n",
       "    </tr>\n",
       "    <tr>\n",
       "      <th>2</th>\n",
       "      <td>3</td>\n",
       "      <td>Four Rooms (1995)</td>\n",
       "      <td>01-Jan-1995</td>\n",
       "      <td>NaN</td>\n",
       "      <td>http://us.imdb.com/M/title-exact?Four%20Rooms%...</td>\n",
       "      <td>0</td>\n",
       "      <td>0</td>\n",
       "      <td>0</td>\n",
       "      <td>0</td>\n",
       "      <td>0</td>\n",
       "      <td>...</td>\n",
       "      <td>0</td>\n",
       "      <td>0</td>\n",
       "      <td>0</td>\n",
       "      <td>0</td>\n",
       "      <td>0</td>\n",
       "      <td>0</td>\n",
       "      <td>0</td>\n",
       "      <td>1</td>\n",
       "      <td>0</td>\n",
       "      <td>0</td>\n",
       "    </tr>\n",
       "    <tr>\n",
       "      <th>3</th>\n",
       "      <td>4</td>\n",
       "      <td>Get Shorty (1995)</td>\n",
       "      <td>01-Jan-1995</td>\n",
       "      <td>NaN</td>\n",
       "      <td>http://us.imdb.com/M/title-exact?Get%20Shorty%...</td>\n",
       "      <td>0</td>\n",
       "      <td>1</td>\n",
       "      <td>0</td>\n",
       "      <td>0</td>\n",
       "      <td>0</td>\n",
       "      <td>...</td>\n",
       "      <td>0</td>\n",
       "      <td>0</td>\n",
       "      <td>0</td>\n",
       "      <td>0</td>\n",
       "      <td>0</td>\n",
       "      <td>0</td>\n",
       "      <td>0</td>\n",
       "      <td>0</td>\n",
       "      <td>0</td>\n",
       "      <td>0</td>\n",
       "    </tr>\n",
       "    <tr>\n",
       "      <th>4</th>\n",
       "      <td>5</td>\n",
       "      <td>Copycat (1995)</td>\n",
       "      <td>01-Jan-1995</td>\n",
       "      <td>NaN</td>\n",
       "      <td>http://us.imdb.com/M/title-exact?Copycat%20(1995)</td>\n",
       "      <td>0</td>\n",
       "      <td>0</td>\n",
       "      <td>0</td>\n",
       "      <td>0</td>\n",
       "      <td>0</td>\n",
       "      <td>...</td>\n",
       "      <td>0</td>\n",
       "      <td>0</td>\n",
       "      <td>0</td>\n",
       "      <td>0</td>\n",
       "      <td>0</td>\n",
       "      <td>0</td>\n",
       "      <td>0</td>\n",
       "      <td>1</td>\n",
       "      <td>0</td>\n",
       "      <td>0</td>\n",
       "    </tr>\n",
       "  </tbody>\n",
       "</table>\n",
       "<p>5 rows × 24 columns</p>\n",
       "</div>"
      ],
      "text/plain": [
       "   movie_id        movie_title release_date  video_release_date  \\\n",
       "0         1   Toy Story (1995)  01-Jan-1995                 NaN   \n",
       "1         2   GoldenEye (1995)  01-Jan-1995                 NaN   \n",
       "2         3  Four Rooms (1995)  01-Jan-1995                 NaN   \n",
       "3         4  Get Shorty (1995)  01-Jan-1995                 NaN   \n",
       "4         5     Copycat (1995)  01-Jan-1995                 NaN   \n",
       "\n",
       "                                            imdb_url  unknown  genre_action  \\\n",
       "0  http://us.imdb.com/M/title-exact?Toy%20Story%2...        0             0   \n",
       "1  http://us.imdb.com/M/title-exact?GoldenEye%20(...        0             1   \n",
       "2  http://us.imdb.com/M/title-exact?Four%20Rooms%...        0             0   \n",
       "3  http://us.imdb.com/M/title-exact?Get%20Shorty%...        0             1   \n",
       "4  http://us.imdb.com/M/title-exact?Copycat%20(1995)        0             0   \n",
       "\n",
       "   genre_adventure  genre_animation  genre_children  ...  genre_fantasy  \\\n",
       "0                0                1               1  ...              0   \n",
       "1                1                0               0  ...              0   \n",
       "2                0                0               0  ...              0   \n",
       "3                0                0               0  ...              0   \n",
       "4                0                0               0  ...              0   \n",
       "\n",
       "   genre_film_noir  genre_horror  genre_musical  genre_mystery  genre_romance  \\\n",
       "0                0             0              0              0              0   \n",
       "1                0             0              0              0              0   \n",
       "2                0             0              0              0              0   \n",
       "3                0             0              0              0              0   \n",
       "4                0             0              0              0              0   \n",
       "\n",
       "   genre_scifi  genre_thriller  genre_war  genre_western  \n",
       "0            0               0          0              0  \n",
       "1            0               1          0              0  \n",
       "2            0               1          0              0  \n",
       "3            0               0          0              0  \n",
       "4            0               1          0              0  \n",
       "\n",
       "[5 rows x 24 columns]"
      ]
     },
     "metadata": {},
     "output_type": "display_data"
    },
    {
     "name": "stdout",
     "output_type": "stream",
     "text": [
      "-----\n",
      "\n",
      "There are 90570 rows and 4 columns in the Training dataset.\n",
      "\n",
      "user_id           int64\n",
      "movie_id          int64\n",
      "rating            int64\n",
      "unix_timestamp    int64\n",
      "dtype: object\n",
      "\n",
      "user_id           0\n",
      "movie_id          0\n",
      "rating            0\n",
      "unix_timestamp    0\n",
      "dtype: int64\n",
      "\n"
     ]
    },
    {
     "data": {
      "text/html": [
       "<div>\n",
       "<style scoped>\n",
       "    .dataframe tbody tr th:only-of-type {\n",
       "        vertical-align: middle;\n",
       "    }\n",
       "\n",
       "    .dataframe tbody tr th {\n",
       "        vertical-align: top;\n",
       "    }\n",
       "\n",
       "    .dataframe thead th {\n",
       "        text-align: right;\n",
       "    }\n",
       "</style>\n",
       "<table border=\"1\" class=\"dataframe\">\n",
       "  <thead>\n",
       "    <tr style=\"text-align: right;\">\n",
       "      <th></th>\n",
       "      <th>user_id</th>\n",
       "      <th>movie_id</th>\n",
       "      <th>rating</th>\n",
       "      <th>unix_timestamp</th>\n",
       "    </tr>\n",
       "  </thead>\n",
       "  <tbody>\n",
       "    <tr>\n",
       "      <th>0</th>\n",
       "      <td>1</td>\n",
       "      <td>1</td>\n",
       "      <td>5</td>\n",
       "      <td>874965758</td>\n",
       "    </tr>\n",
       "    <tr>\n",
       "      <th>1</th>\n",
       "      <td>1</td>\n",
       "      <td>2</td>\n",
       "      <td>3</td>\n",
       "      <td>876893171</td>\n",
       "    </tr>\n",
       "    <tr>\n",
       "      <th>2</th>\n",
       "      <td>1</td>\n",
       "      <td>3</td>\n",
       "      <td>4</td>\n",
       "      <td>878542960</td>\n",
       "    </tr>\n",
       "    <tr>\n",
       "      <th>3</th>\n",
       "      <td>1</td>\n",
       "      <td>4</td>\n",
       "      <td>3</td>\n",
       "      <td>876893119</td>\n",
       "    </tr>\n",
       "    <tr>\n",
       "      <th>4</th>\n",
       "      <td>1</td>\n",
       "      <td>5</td>\n",
       "      <td>3</td>\n",
       "      <td>889751712</td>\n",
       "    </tr>\n",
       "  </tbody>\n",
       "</table>\n",
       "</div>"
      ],
      "text/plain": [
       "   user_id  movie_id  rating  unix_timestamp\n",
       "0        1         1       5       874965758\n",
       "1        1         2       3       876893171\n",
       "2        1         3       4       878542960\n",
       "3        1         4       3       876893119\n",
       "4        1         5       3       889751712"
      ]
     },
     "metadata": {},
     "output_type": "display_data"
    },
    {
     "name": "stdout",
     "output_type": "stream",
     "text": [
      "-----\n",
      "\n",
      "There are 9430 rows and 4 columns in the Test dataset.\n",
      "\n",
      "user_id           int64\n",
      "movie_id          int64\n",
      "rating            int64\n",
      "unix_timestamp    int64\n",
      "dtype: object\n",
      "\n",
      "user_id           0\n",
      "movie_id          0\n",
      "rating            0\n",
      "unix_timestamp    0\n",
      "dtype: int64\n",
      "\n"
     ]
    },
    {
     "data": {
      "text/html": [
       "<div>\n",
       "<style scoped>\n",
       "    .dataframe tbody tr th:only-of-type {\n",
       "        vertical-align: middle;\n",
       "    }\n",
       "\n",
       "    .dataframe tbody tr th {\n",
       "        vertical-align: top;\n",
       "    }\n",
       "\n",
       "    .dataframe thead th {\n",
       "        text-align: right;\n",
       "    }\n",
       "</style>\n",
       "<table border=\"1\" class=\"dataframe\">\n",
       "  <thead>\n",
       "    <tr style=\"text-align: right;\">\n",
       "      <th></th>\n",
       "      <th>user_id</th>\n",
       "      <th>movie_id</th>\n",
       "      <th>rating</th>\n",
       "      <th>unix_timestamp</th>\n",
       "    </tr>\n",
       "  </thead>\n",
       "  <tbody>\n",
       "    <tr>\n",
       "      <th>0</th>\n",
       "      <td>1</td>\n",
       "      <td>20</td>\n",
       "      <td>4</td>\n",
       "      <td>887431883</td>\n",
       "    </tr>\n",
       "    <tr>\n",
       "      <th>1</th>\n",
       "      <td>1</td>\n",
       "      <td>33</td>\n",
       "      <td>4</td>\n",
       "      <td>878542699</td>\n",
       "    </tr>\n",
       "    <tr>\n",
       "      <th>2</th>\n",
       "      <td>1</td>\n",
       "      <td>61</td>\n",
       "      <td>4</td>\n",
       "      <td>878542420</td>\n",
       "    </tr>\n",
       "    <tr>\n",
       "      <th>3</th>\n",
       "      <td>1</td>\n",
       "      <td>117</td>\n",
       "      <td>3</td>\n",
       "      <td>874965739</td>\n",
       "    </tr>\n",
       "    <tr>\n",
       "      <th>4</th>\n",
       "      <td>1</td>\n",
       "      <td>155</td>\n",
       "      <td>2</td>\n",
       "      <td>878542201</td>\n",
       "    </tr>\n",
       "  </tbody>\n",
       "</table>\n",
       "</div>"
      ],
      "text/plain": [
       "   user_id  movie_id  rating  unix_timestamp\n",
       "0        1        20       4       887431883\n",
       "1        1        33       4       878542699\n",
       "2        1        61       4       878542420\n",
       "3        1       117       3       874965739\n",
       "4        1       155       2       878542201"
      ]
     },
     "metadata": {},
     "output_type": "display_data"
    },
    {
     "name": "stdout",
     "output_type": "stream",
     "text": [
      "-----\n",
      "\n"
     ]
    }
   ],
   "source": [
    "# apply simple eda to the datasets\n",
    "for df,name in datasets: \n",
    "    \n",
    "    # view shape\n",
    "    print(f'There are {df.shape[0]} rows and {df.shape[1]} columns in the {name} dataset.')\n",
    "    print()\n",
    "    \n",
    "    # view data types\n",
    "    print(df.dtypes)\n",
    "    print()\n",
    "    \n",
    "    # view null values\n",
    "    print(df.isnull().sum())\n",
    "    print()\n",
    "    \n",
    "    # view top 5 rows\n",
    "    display(df.head())\n",
    "    print('-----')\n",
    "    print()"
   ]
  },
  {
   "cell_type": "markdown",
   "metadata": {},
   "source": [
    "Some early observations: \n",
    "- Most of the datasets do not have null values, except for the Movies dataset which has 1,682 null values in `video_release_date` - assuming that the movies do not have corresponding `video_release_date`, we can impute the null values with another representative datetime value. \n",
    "- The `unix_timestamp` field is stated in unix seconds since 1/1/1970 UTC - if need be, the field will need to be converted to a datetime format that's more recognisable."
   ]
  },
  {
   "cell_type": "markdown",
   "metadata": {},
   "source": [
    "#### 2.1. Users dataset\n",
    "\n",
    "Let's look into detail within the Users dataset."
   ]
  },
  {
   "cell_type": "code",
   "execution_count": 5,
   "metadata": {},
   "outputs": [
    {
     "data": {
      "text/plain": [
       "943"
      ]
     },
     "execution_count": 5,
     "metadata": {},
     "output_type": "execute_result"
    }
   ],
   "source": [
    "# view the no. of unique 'user_id' present\n",
    "users_df['user_id'].nunique()"
   ]
  },
  {
   "cell_type": "markdown",
   "metadata": {},
   "source": [
    "Seems that the number of unique `user_id` matches with the number of rows in the Users dataset. "
   ]
  },
  {
   "cell_type": "code",
   "execution_count": 6,
   "metadata": {},
   "outputs": [
    {
     "data": {
      "text/plain": [
       "Text(0.5, 1.0, 'Distribution of gender among users')"
      ]
     },
     "execution_count": 6,
     "metadata": {},
     "output_type": "execute_result"
    },
    {
     "data": {
      "image/png": "[encoded data removed]",
      "text/plain": [
       "<Figure size 1152x360 with 1 Axes>"
      ]
     },
     "metadata": {
      "image/png": {
       "height": 331,
       "width": 944
      },
      "needs_background": "light"
     },
     "output_type": "display_data"
    }
   ],
   "source": [
    "# view the split of 'gender'\n",
    "plt.figure(figsize=(16,5))\n",
    "ax = sns.countplot(x='gender', data=users_df, palette='mako')\n",
    "plt.title('Distribution of gender among users')"
   ]
  },
  {
   "cell_type": "markdown",
   "metadata": {},
   "source": [
    "By plotting the split of `gender`, it seems that the number of users who have identified with the gender 'M' (stands for male) is more than two times that of 'F' (stands for female)."
   ]
  },
  {
   "cell_type": "code",
   "execution_count": 7,
   "metadata": {},
   "outputs": [
    {
     "data": {
      "text/plain": [
       "Text(0.5, 1.0, 'Distribution of occupation among users')"
      ]
     },
     "execution_count": 7,
     "metadata": {},
     "output_type": "execute_result"
    },
    {
     "data": {
      "image/png": "[encoded data removed]",
      "text/plain": [
       "<Figure size 1152x360 with 1 Axes>"
      ]
     },
     "metadata": {
      "image/png": {
       "height": 371,
       "width": 944
      },
      "needs_background": "light"
     },
     "output_type": "display_data"
    }
   ],
   "source": [
    "# view the split of 'occupation'\n",
    "plt.figure(figsize=(16,5))\n",
    "ax = sns.countplot(x='occupation', data=users_df, palette='mako')\n",
    "plt.xticks(rotation=45)\n",
    "plt.title('Distribution of occupation among users')"
   ]
  },
  {
   "cell_type": "code",
   "execution_count": 8,
   "metadata": {},
   "outputs": [
    {
     "data": {
      "text/plain": [
       "student          0.207847\n",
       "other            0.111347\n",
       "educator         0.100742\n",
       "administrator    0.083775\n",
       "engineer         0.071050\n",
       "programmer       0.069989\n",
       "librarian        0.054083\n",
       "writer           0.047720\n",
       "executive        0.033934\n",
       "scientist        0.032874\n",
       "artist           0.029692\n",
       "technician       0.028632\n",
       "marketing        0.027572\n",
       "entertainment    0.019088\n",
       "healthcare       0.016967\n",
       "retired          0.014846\n",
       "lawyer           0.012725\n",
       "salesman         0.012725\n",
       "none             0.009544\n",
       "homemaker        0.007423\n",
       "doctor           0.007423\n",
       "Name: occupation, dtype: float64"
      ]
     },
     "execution_count": 8,
     "metadata": {},
     "output_type": "execute_result"
    }
   ],
   "source": [
    "# view count of 'occupation'\n",
    "users_df['occupation'].value_counts(normalize=True, ascending=False)"
   ]
  },
  {
   "cell_type": "markdown",
   "metadata": {},
   "source": [
    "By plotting the split of `occupation`, we can observe that the top 5 occupations include:\n",
    "- Student (20.8%)\n",
    "- Educator (10.1%)\n",
    "- Administrator (8.4%)\n",
    "- Engineer (7.1%)\n",
    "- Programmer (7.0%)"
   ]
  },
  {
   "cell_type": "code",
   "execution_count": 9,
   "metadata": {},
   "outputs": [
    {
     "data": {
      "text/plain": [
       "Text(0.5, 1.0, 'Distribution of age among users')"
      ]
     },
     "execution_count": 9,
     "metadata": {},
     "output_type": "execute_result"
    },
    {
     "data": {
      "image/png": "[encoded data removed]",
      "text/plain": [
       "<Figure size 1152x360 with 1 Axes>"
      ]
     },
     "metadata": {
      "image/png": {
       "height": 331,
       "width": 944
      },
      "needs_background": "light"
     },
     "output_type": "display_data"
    }
   ],
   "source": [
    "# view distribution for 'age'\n",
    "plt.figure(figsize=(16,5))\n",
    "sns.histplot(data=users_df['age'], color='steelblue')\n",
    "plt.title('Distribution of age among users')"
   ]
  },
  {
   "cell_type": "markdown",
   "metadata": {},
   "source": [
    "By plotting the `age`, we do observe that majority of users is within the age range of 20 to 35, followed by those in the age range of 40 to 55. This may be due to lifestyle preferences, i.e. youth enjoy spending their leisure time watching movies. \n",
    "\n",
    "For the `zip_code`, let's visualise the users' locations on Tableau."
   ]
  },
  {
   "cell_type": "code",
   "execution_count": 10,
   "metadata": {},
   "outputs": [],
   "source": [
    "# plot 'zip_code' on tableau\n",
    "# export users_df file\n",
    "users_df.to_csv('../data/intermediate/users.csv', index=False)"
   ]
  },
  {
   "cell_type": "markdown",
   "metadata": {},
   "source": [
    "**Visualisation of users' locations based on zip code**"
   ]
  },
  {
   "cell_type": "markdown",
   "metadata": {},
   "source": [
    "<img src='../document/images/zip_code.jpg' width=500 align=center>\n",
    "\n",
    "<center><font size=2 color='grey'>(Fig 1. Plot of locations based on zip code)</font></center>"
   ]
  },
  {
   "cell_type": "markdown",
   "metadata": {},
   "source": [
    "Based on the `zip_code`, it seems that users are located worldwide, though mostly concentrated in the United States of America."
   ]
  },
  {
   "cell_type": "markdown",
   "metadata": {},
   "source": [
    "#### 2.2. Ratings dataset\n",
    "\n",
    "Let's look into detail within the Ratings dataset."
   ]
  },
  {
   "cell_type": "code",
   "execution_count": 11,
   "metadata": {},
   "outputs": [
    {
     "data": {
      "text/html": [
       "<div>\n",
       "<style scoped>\n",
       "    .dataframe tbody tr th:only-of-type {\n",
       "        vertical-align: middle;\n",
       "    }\n",
       "\n",
       "    .dataframe tbody tr th {\n",
       "        vertical-align: top;\n",
       "    }\n",
       "\n",
       "    .dataframe thead th {\n",
       "        text-align: right;\n",
       "    }\n",
       "</style>\n",
       "<table border=\"1\" class=\"dataframe\">\n",
       "  <thead>\n",
       "    <tr style=\"text-align: right;\">\n",
       "      <th></th>\n",
       "      <th>user_id</th>\n",
       "      <th>movie_id</th>\n",
       "      <th>rating</th>\n",
       "      <th>unix_timestamp</th>\n",
       "    </tr>\n",
       "  </thead>\n",
       "  <tbody>\n",
       "  </tbody>\n",
       "</table>\n",
       "</div>"
      ],
      "text/plain": [
       "Empty DataFrame\n",
       "Columns: [user_id, movie_id, rating, unix_timestamp]\n",
       "Index: []"
      ]
     },
     "execution_count": 11,
     "metadata": {},
     "output_type": "execute_result"
    }
   ],
   "source": [
    "# check if there are any duplicated rows\n",
    "ratings_df[ratings_df.duplicated(subset=None, keep='first')]"
   ]
  },
  {
   "cell_type": "markdown",
   "metadata": {},
   "source": [
    "Great! There are no duplicated rows in the Ratings dataset.\n",
    "\n",
    "Let's convert the `unix_timestamp` into a readable format. "
   ]
  },
  {
   "cell_type": "code",
   "execution_count": 12,
   "metadata": {},
   "outputs": [
    {
     "name": "stdout",
     "output_type": "stream",
     "text": [
      "The earliest movie rating occurred on 1997-09-20 03:05:10.\n",
      "The most recent movie rating occurred on 1998-04-22 23:10:38.\n"
     ]
    }
   ],
   "source": [
    "# convert 'unix_timestamp'\n",
    "ratings_df['date'] = pd.to_datetime(ratings_df['unix_timestamp'],unit='s')\n",
    "\n",
    "# identify the earliest and most recent rating\n",
    "print(f\"The earliest movie rating occurred on {ratings_df['date'].min()}.\")\n",
    "print(f\"The most recent movie rating occurred on {ratings_df['date'].max()}.\")"
   ]
  },
  {
   "cell_type": "markdown",
   "metadata": {},
   "source": [
    "Seems like the ratings were given relatively earlier in time... but nevertheless we'll still continue working on this dataset = ) "
   ]
  },
  {
   "cell_type": "code",
   "execution_count": 13,
   "metadata": {},
   "outputs": [
    {
     "data": {
      "text/plain": [
       "Text(0.5, 1.0, 'Distribution of ratings')"
      ]
     },
     "execution_count": 13,
     "metadata": {},
     "output_type": "execute_result"
    },
    {
     "data": {
      "image/png": "[encoded data removed]",
      "text/plain": [
       "<Figure size 1152x360 with 1 Axes>"
      ]
     },
     "metadata": {
      "image/png": {
       "height": 331,
       "width": 955
      },
      "needs_background": "light"
     },
     "output_type": "display_data"
    }
   ],
   "source": [
    "# view distribution for 'rating'\n",
    "plt.figure(figsize=(16,5))\n",
    "ax = sns.countplot(x='rating', data=ratings_df, palette='mako')\n",
    "plt.title('Distribution of ratings')"
   ]
  },
  {
   "cell_type": "markdown",
   "metadata": {},
   "source": [
    "Based on the `ratings`, it seems that most users are leaning towards giving ratings of '4', '3' followed by '5', indicating that the movies are generally good (positive) and meeting their expectations."
   ]
  },
  {
   "cell_type": "code",
   "execution_count": 14,
   "metadata": {},
   "outputs": [
    {
     "data": {
      "text/plain": [
       "count    1682.000000\n",
       "mean        3.076045\n",
       "std         0.781662\n",
       "min         1.000000\n",
       "25%         2.659600\n",
       "50%         3.161528\n",
       "75%         3.653428\n",
       "max         5.000000\n",
       "Name: mean_rating, dtype: float64"
      ]
     },
     "execution_count": 14,
     "metadata": {},
     "output_type": "execute_result"
    }
   ],
   "source": [
    "# view movies based on mean rating\n",
    "movie_rating = ratings_df.groupby('movie_id')['rating'].mean().to_frame().reset_index()\n",
    "movie_rating.columns = ['movie_id', 'mean_rating']\n",
    "\n",
    "# view numerical description for 'mean_rating'\n",
    "movie_rating['mean_rating'].describe()"
   ]
  },
  {
   "cell_type": "markdown",
   "metadata": {},
   "source": [
    "By computing the `mean_rating` given to each movie, we observe that the mean rating score is around 3.08, while the median rating score is around 3.16. Lowest rating remain at 1, while highest rating is 5. "
   ]
  },
  {
   "cell_type": "code",
   "execution_count": 15,
   "metadata": {},
   "outputs": [
    {
     "data": {
      "text/html": [
       "<div>\n",
       "<style scoped>\n",
       "    .dataframe tbody tr th:only-of-type {\n",
       "        vertical-align: middle;\n",
       "    }\n",
       "\n",
       "    .dataframe tbody tr th {\n",
       "        vertical-align: top;\n",
       "    }\n",
       "\n",
       "    .dataframe thead th {\n",
       "        text-align: right;\n",
       "    }\n",
       "</style>\n",
       "<table border=\"1\" class=\"dataframe\">\n",
       "  <thead>\n",
       "    <tr style=\"text-align: right;\">\n",
       "      <th></th>\n",
       "      <th>movie_id</th>\n",
       "      <th>mean_rating</th>\n",
       "    </tr>\n",
       "  </thead>\n",
       "  <tbody>\n",
       "    <tr>\n",
       "      <th>813</th>\n",
       "      <td>814</td>\n",
       "      <td>5.0</td>\n",
       "    </tr>\n",
       "    <tr>\n",
       "      <th>1598</th>\n",
       "      <td>1599</td>\n",
       "      <td>5.0</td>\n",
       "    </tr>\n",
       "    <tr>\n",
       "      <th>1200</th>\n",
       "      <td>1201</td>\n",
       "      <td>5.0</td>\n",
       "    </tr>\n",
       "    <tr>\n",
       "      <th>1121</th>\n",
       "      <td>1122</td>\n",
       "      <td>5.0</td>\n",
       "    </tr>\n",
       "    <tr>\n",
       "      <th>1652</th>\n",
       "      <td>1653</td>\n",
       "      <td>5.0</td>\n",
       "    </tr>\n",
       "    <tr>\n",
       "      <th>1292</th>\n",
       "      <td>1293</td>\n",
       "      <td>5.0</td>\n",
       "    </tr>\n",
       "    <tr>\n",
       "      <th>1499</th>\n",
       "      <td>1500</td>\n",
       "      <td>5.0</td>\n",
       "    </tr>\n",
       "    <tr>\n",
       "      <th>1188</th>\n",
       "      <td>1189</td>\n",
       "      <td>5.0</td>\n",
       "    </tr>\n",
       "    <tr>\n",
       "      <th>1535</th>\n",
       "      <td>1536</td>\n",
       "      <td>5.0</td>\n",
       "    </tr>\n",
       "    <tr>\n",
       "      <th>1466</th>\n",
       "      <td>1467</td>\n",
       "      <td>5.0</td>\n",
       "    </tr>\n",
       "  </tbody>\n",
       "</table>\n",
       "</div>"
      ],
      "text/plain": [
       "      movie_id  mean_rating\n",
       "813        814          5.0\n",
       "1598      1599          5.0\n",
       "1200      1201          5.0\n",
       "1121      1122          5.0\n",
       "1652      1653          5.0\n",
       "1292      1293          5.0\n",
       "1499      1500          5.0\n",
       "1188      1189          5.0\n",
       "1535      1536          5.0\n",
       "1466      1467          5.0"
      ]
     },
     "execution_count": 15,
     "metadata": {},
     "output_type": "execute_result"
    }
   ],
   "source": [
    "# view top 10 movies that are highly rated (mean)\n",
    "top_movies = movie_rating.sort_values(by='mean_rating', ascending=False).head(10)\n",
    "top_movies"
   ]
  },
  {
   "cell_type": "code",
   "execution_count": 16,
   "metadata": {},
   "outputs": [
    {
     "data": {
      "text/html": [
       "<div>\n",
       "<style scoped>\n",
       "    .dataframe tbody tr th:only-of-type {\n",
       "        vertical-align: middle;\n",
       "    }\n",
       "\n",
       "    .dataframe tbody tr th {\n",
       "        vertical-align: top;\n",
       "    }\n",
       "\n",
       "    .dataframe thead th {\n",
       "        text-align: right;\n",
       "    }\n",
       "</style>\n",
       "<table border=\"1\" class=\"dataframe\">\n",
       "  <thead>\n",
       "    <tr style=\"text-align: right;\">\n",
       "      <th></th>\n",
       "      <th>movie_id</th>\n",
       "      <th>mean_rating</th>\n",
       "    </tr>\n",
       "  </thead>\n",
       "  <tbody>\n",
       "    <tr>\n",
       "      <th>1363</th>\n",
       "      <td>1364</td>\n",
       "      <td>1.0</td>\n",
       "    </tr>\n",
       "    <tr>\n",
       "      <th>1560</th>\n",
       "      <td>1561</td>\n",
       "      <td>1.0</td>\n",
       "    </tr>\n",
       "    <tr>\n",
       "      <th>1558</th>\n",
       "      <td>1559</td>\n",
       "      <td>1.0</td>\n",
       "    </tr>\n",
       "    <tr>\n",
       "      <th>1556</th>\n",
       "      <td>1557</td>\n",
       "      <td>1.0</td>\n",
       "    </tr>\n",
       "    <tr>\n",
       "      <th>1600</th>\n",
       "      <td>1601</td>\n",
       "      <td>1.0</td>\n",
       "    </tr>\n",
       "    <tr>\n",
       "      <th>436</th>\n",
       "      <td>437</td>\n",
       "      <td>1.0</td>\n",
       "    </tr>\n",
       "    <tr>\n",
       "      <th>1372</th>\n",
       "      <td>1373</td>\n",
       "      <td>1.0</td>\n",
       "    </tr>\n",
       "    <tr>\n",
       "      <th>1547</th>\n",
       "      <td>1548</td>\n",
       "      <td>1.0</td>\n",
       "    </tr>\n",
       "    <tr>\n",
       "      <th>1373</th>\n",
       "      <td>1374</td>\n",
       "      <td>1.0</td>\n",
       "    </tr>\n",
       "    <tr>\n",
       "      <th>1545</th>\n",
       "      <td>1546</td>\n",
       "      <td>1.0</td>\n",
       "    </tr>\n",
       "  </tbody>\n",
       "</table>\n",
       "</div>"
      ],
      "text/plain": [
       "      movie_id  mean_rating\n",
       "1363      1364          1.0\n",
       "1560      1561          1.0\n",
       "1558      1559          1.0\n",
       "1556      1557          1.0\n",
       "1600      1601          1.0\n",
       "436        437          1.0\n",
       "1372      1373          1.0\n",
       "1547      1548          1.0\n",
       "1373      1374          1.0\n",
       "1545      1546          1.0"
      ]
     },
     "execution_count": 16,
     "metadata": {},
     "output_type": "execute_result"
    }
   ],
   "source": [
    "# view top 10 movies that are poorly rated (mean)\n",
    "bottom_movies = movie_rating.sort_values(by='mean_rating').head(10)\n",
    "bottom_movies"
   ]
  },
  {
   "cell_type": "markdown",
   "metadata": {},
   "source": [
    "#### 2.3. Movies dataset\n",
    "\n",
    "Let's look into detail within the Movies dataset."
   ]
  },
  {
   "cell_type": "code",
   "execution_count": 17,
   "metadata": {},
   "outputs": [
    {
     "data": {
      "text/plain": [
       "1682"
      ]
     },
     "execution_count": 17,
     "metadata": {},
     "output_type": "execute_result"
    }
   ],
   "source": [
    "# view the no. of unique 'movie_id' present\n",
    "movies_df['movie_id'].nunique()"
   ]
  },
  {
   "cell_type": "markdown",
   "metadata": {},
   "source": [
    "Seems that the number of unique `movie_id` matches with the number of rows in the Movies dataset. \n",
    "\n",
    "Let's convert the `release_date` and `video_release_date` to the correct datetime format."
   ]
  },
  {
   "cell_type": "code",
   "execution_count": 18,
   "metadata": {},
   "outputs": [
    {
     "name": "stdout",
     "output_type": "stream",
     "text": [
      "The earliest movie release date occurred on 1922-01-01 00:00:00.\n",
      "The most recent movie release date occurred on 1998-10-23 00:00:00.\n"
     ]
    }
   ],
   "source": [
    "# convert 'release_date' and 'video_release_date' to correct datetime format\n",
    "movies_df['release_date'] = pd.to_datetime(movies_df['release_date'])\n",
    "movies_df['video_release_date'] = pd.to_datetime(movies_df['video_release_date'])\n",
    "\n",
    "# identify the earliest and most recent 'release_date'\n",
    "print(f\"The earliest movie release date occurred on {movies_df['release_date'].min()}.\")\n",
    "print(f\"The most recent movie release date occurred on {movies_df['release_date'].max()}.\")"
   ]
  },
  {
   "cell_type": "markdown",
   "metadata": {},
   "source": [
    "It is interesting to note that movies that were released as early as in the year 1922 were listed on the platform. \n",
    "\n",
    "For the `video_release_date`, since there are no values in the column, we may potentially drop this column. \n",
    "\n",
    "Next, let's look at the movie genre. Since it's possible for each movie to feature more than one genre, we will do a summation to identify the top few commonly occurring genres, as well as those that may be more rare. "
   ]
  },
  {
   "cell_type": "code",
   "execution_count": 19,
   "metadata": {},
   "outputs": [
    {
     "data": {
      "text/plain": [
       "Index(['movie_id', 'movie_title', 'release_date', 'video_release_date',\n",
       "       'imdb_url', 'unknown', 'genre_action', 'genre_adventure',\n",
       "       'genre_animation', 'genre_children', 'genre_comedy', 'genre_crime',\n",
       "       'genre_documentary', 'genre_drama', 'genre_fantasy', 'genre_film_noir',\n",
       "       'genre_horror', 'genre_musical', 'genre_mystery', 'genre_romance',\n",
       "       'genre_scifi', 'genre_thriller', 'genre_war', 'genre_western'],\n",
       "      dtype='object')"
      ]
     },
     "execution_count": 19,
     "metadata": {},
     "output_type": "execute_result"
    }
   ],
   "source": [
    "# obtain the list of columns\n",
    "movies_df.columns"
   ]
  },
  {
   "cell_type": "code",
   "execution_count": 20,
   "metadata": {},
   "outputs": [
    {
     "data": {
      "text/plain": [
       "Text(0.5, 1.0, 'Count of movies based on genres')"
      ]
     },
     "execution_count": 20,
     "metadata": {},
     "output_type": "execute_result"
    },
    {
     "data": {
      "image/png": "[encoded data removed]",
      "text/plain": [
       "<Figure size 1152x360 with 1 Axes>"
      ]
     },
     "metadata": {
      "image/png": {
       "height": 391,
       "width": 945
      },
      "needs_background": "light"
     },
     "output_type": "display_data"
    }
   ],
   "source": [
    "# store all genres in a list\n",
    "movie_genres = ['genre_action', 'genre_adventure', 'genre_animation', 'genre_children', 'genre_comedy', 'genre_crime',\n",
    "                'genre_documentary', 'genre_drama', 'genre_fantasy', 'genre_film_noir', 'genre_horror', 'genre_musical', \n",
    "                'genre_mystery', 'genre_romance', 'genre_scifi', 'genre_thriller', 'genre_war', 'genre_western']\n",
    "\n",
    "sum_movie_genres = movies_df[movie_genres].sum(axis=0).to_frame().reset_index()\n",
    "sum_movie_genres.columns = ['genre', 'count']\n",
    "sum_movie_genres = sum_movie_genres.sort_values(by='count', ascending=False)\n",
    "\n",
    "# view distribution for genres\n",
    "plt.figure(figsize=(16,5))\n",
    "ax = sns.barplot(x='genre', y='count', data=sum_movie_genres, palette='mako')\n",
    "plt.xticks(rotation=45)\n",
    "plt.title('Count of movies based on genres')"
   ]
  },
  {
   "cell_type": "markdown",
   "metadata": {},
   "source": [
    "It seems that the movie genre 'drama' appears the most frequently, followed by 'comedy' and 'action'. On the other hand, there seems to be less movies with the genres 'western', 'film-noir' and 'fantasy'."
   ]
  },
  {
   "cell_type": "code",
   "execution_count": 21,
   "metadata": {},
   "outputs": [
    {
     "data": {
      "text/html": [
       "<div>\n",
       "<style scoped>\n",
       "    .dataframe tbody tr th:only-of-type {\n",
       "        vertical-align: middle;\n",
       "    }\n",
       "\n",
       "    .dataframe tbody tr th {\n",
       "        vertical-align: top;\n",
       "    }\n",
       "\n",
       "    .dataframe thead th {\n",
       "        text-align: right;\n",
       "    }\n",
       "</style>\n",
       "<table border=\"1\" class=\"dataframe\">\n",
       "  <thead>\n",
       "    <tr style=\"text-align: right;\">\n",
       "      <th></th>\n",
       "      <th>movie_id</th>\n",
       "      <th>movie_title</th>\n",
       "      <th>release_date</th>\n",
       "      <th>video_release_date</th>\n",
       "      <th>imdb_url</th>\n",
       "      <th>unknown</th>\n",
       "      <th>genre_action</th>\n",
       "      <th>genre_adventure</th>\n",
       "      <th>genre_animation</th>\n",
       "      <th>genre_children</th>\n",
       "      <th>...</th>\n",
       "      <th>genre_fantasy</th>\n",
       "      <th>genre_film_noir</th>\n",
       "      <th>genre_horror</th>\n",
       "      <th>genre_musical</th>\n",
       "      <th>genre_mystery</th>\n",
       "      <th>genre_romance</th>\n",
       "      <th>genre_scifi</th>\n",
       "      <th>genre_thriller</th>\n",
       "      <th>genre_war</th>\n",
       "      <th>genre_western</th>\n",
       "    </tr>\n",
       "  </thead>\n",
       "  <tbody>\n",
       "    <tr>\n",
       "      <th>266</th>\n",
       "      <td>267</td>\n",
       "      <td>unknown</td>\n",
       "      <td>NaT</td>\n",
       "      <td>NaT</td>\n",
       "      <td>NaN</td>\n",
       "      <td>1</td>\n",
       "      <td>0</td>\n",
       "      <td>0</td>\n",
       "      <td>0</td>\n",
       "      <td>0</td>\n",
       "      <td>...</td>\n",
       "      <td>0</td>\n",
       "      <td>0</td>\n",
       "      <td>0</td>\n",
       "      <td>0</td>\n",
       "      <td>0</td>\n",
       "      <td>0</td>\n",
       "      <td>0</td>\n",
       "      <td>0</td>\n",
       "      <td>0</td>\n",
       "      <td>0</td>\n",
       "    </tr>\n",
       "    <tr>\n",
       "      <th>1357</th>\n",
       "      <td>1358</td>\n",
       "      <td>The Deadly Cure (1996)</td>\n",
       "      <td>1996-09-16</td>\n",
       "      <td>NaT</td>\n",
       "      <td>NaN</td>\n",
       "      <td>0</td>\n",
       "      <td>1</td>\n",
       "      <td>0</td>\n",
       "      <td>0</td>\n",
       "      <td>0</td>\n",
       "      <td>...</td>\n",
       "      <td>0</td>\n",
       "      <td>0</td>\n",
       "      <td>0</td>\n",
       "      <td>0</td>\n",
       "      <td>0</td>\n",
       "      <td>0</td>\n",
       "      <td>0</td>\n",
       "      <td>0</td>\n",
       "      <td>0</td>\n",
       "      <td>0</td>\n",
       "    </tr>\n",
       "    <tr>\n",
       "      <th>1358</th>\n",
       "      <td>1359</td>\n",
       "      <td>Boys in Venice (1996)</td>\n",
       "      <td>1996-09-24</td>\n",
       "      <td>NaT</td>\n",
       "      <td>NaN</td>\n",
       "      <td>0</td>\n",
       "      <td>0</td>\n",
       "      <td>0</td>\n",
       "      <td>0</td>\n",
       "      <td>0</td>\n",
       "      <td>...</td>\n",
       "      <td>0</td>\n",
       "      <td>0</td>\n",
       "      <td>0</td>\n",
       "      <td>0</td>\n",
       "      <td>0</td>\n",
       "      <td>0</td>\n",
       "      <td>0</td>\n",
       "      <td>0</td>\n",
       "      <td>0</td>\n",
       "      <td>0</td>\n",
       "    </tr>\n",
       "  </tbody>\n",
       "</table>\n",
       "<p>3 rows × 24 columns</p>\n",
       "</div>"
      ],
      "text/plain": [
       "      movie_id             movie_title release_date video_release_date  \\\n",
       "266        267                 unknown          NaT                NaT   \n",
       "1357      1358  The Deadly Cure (1996)   1996-09-16                NaT   \n",
       "1358      1359   Boys in Venice (1996)   1996-09-24                NaT   \n",
       "\n",
       "     imdb_url  unknown  genre_action  genre_adventure  genre_animation  \\\n",
       "266       NaN        1             0                0                0   \n",
       "1357      NaN        0             1                0                0   \n",
       "1358      NaN        0             0                0                0   \n",
       "\n",
       "      genre_children  ...  genre_fantasy  genre_film_noir  genre_horror  \\\n",
       "266                0  ...              0                0             0   \n",
       "1357               0  ...              0                0             0   \n",
       "1358               0  ...              0                0             0   \n",
       "\n",
       "      genre_musical  genre_mystery  genre_romance  genre_scifi  \\\n",
       "266               0              0              0            0   \n",
       "1357              0              0              0            0   \n",
       "1358              0              0              0            0   \n",
       "\n",
       "      genre_thriller  genre_war  genre_western  \n",
       "266                0          0              0  \n",
       "1357               0          0              0  \n",
       "1358               0          0              0  \n",
       "\n",
       "[3 rows x 24 columns]"
      ]
     },
     "execution_count": 21,
     "metadata": {},
     "output_type": "execute_result"
    }
   ],
   "source": [
    "# view null values present in 'imdb_url'\n",
    "movies_df[movies_df['imdb_url'].isnull()]"
   ]
  },
  {
   "cell_type": "markdown",
   "metadata": {},
   "source": [
    "Under the field `imdb_url`, there are three rows with null values, of which one contains the `movie_title` 'unknown'. This may be an error during data collection - let's keep in view of this. "
   ]
  },
  {
   "cell_type": "code",
   "execution_count": 22,
   "metadata": {},
   "outputs": [
    {
     "data": {
      "text/plain": [
       "0    1680\n",
       "1       2\n",
       "Name: unknown, dtype: int64"
      ]
     },
     "execution_count": 22,
     "metadata": {},
     "output_type": "execute_result"
    }
   ],
   "source": [
    "# view split for 'unknown'\n",
    "movies_df['unknown'].value_counts()"
   ]
  },
  {
   "cell_type": "markdown",
   "metadata": {},
   "source": [
    "Oddly there's a field called `unknown` and its explaination is not listed. We can likely drop this feature."
   ]
  },
  {
   "cell_type": "code",
   "execution_count": 23,
   "metadata": {},
   "outputs": [],
   "source": [
    "# drop features not required\n",
    "movies_df = movies_df.drop(columns=['video_release_date', 'unknown'])"
   ]
  },
  {
   "cell_type": "markdown",
   "metadata": {},
   "source": [
    "#### 2.4. Training & Test datasets\n",
    "\n",
    "Let's have a sneak peek of the training and test datasets."
   ]
  },
  {
   "cell_type": "code",
   "execution_count": 24,
   "metadata": {},
   "outputs": [
    {
     "name": "stdout",
     "output_type": "stream",
     "text": [
      "No. of unique user_id in the Training dataset: 943\n",
      "No. of unique movie_id in the Training dataset: 1682\n",
      "\n",
      "No. of unique user_id in the Test dataset: 943\n",
      "No. of unique movie_id in the Test dataset: 1664\n"
     ]
    }
   ],
   "source": [
    "# compute no. of unique 'user_id' and 'movie_id' in the training dataset\n",
    "num_users_train = train_df['user_id'].unique().max()\n",
    "num_items_train = train_df['movie_id'].unique().max()\n",
    "\n",
    "# view the no. of unique 'user_id' and 'movie_id' in the training dataset\n",
    "print(f\"No. of unique user_id in the Training dataset: {num_users_train}\")\n",
    "print(f\"No. of unique movie_id in the Training dataset: {num_items_train}\")\n",
    "print()\n",
    "\n",
    "# compute no. of unique 'user_id' and 'movie_id' in the test dataset\n",
    "num_users_test = test_df['user_id'].unique().max()\n",
    "num_items_test = test_df['movie_id'].unique().max()\n",
    "\n",
    "# view the no. of unique 'user_id' and 'movie_id' in the test dataset\n",
    "print(f\"No. of unique user_id in the Test dataset: {num_users_test}\")\n",
    "print(f\"No. of unique movie_id in the Test dataset: {num_items_test}\")"
   ]
  },
  {
   "cell_type": "markdown",
   "metadata": {},
   "source": [
    "### 3. Building Recommendation Engine\n",
    "\n",
    "In this section, we will be building recommendation engine, using collaborative filtering. "
   ]
  },
  {
   "cell_type": "markdown",
   "metadata": {},
   "source": [
    "#### 3.1. Collaborative Filtering\n",
    "\n",
    "We will recommend movies to users based on user-user similarity and item-item similarity. We will use the training and test datasets to create the user-item matrix each for computing similarity between users and movies. "
   ]
  },
  {
   "cell_type": "code",
   "execution_count": 25,
   "metadata": {},
   "outputs": [],
   "source": [
    "# create a user-item matrix to compute similarity between users and movies\n",
    "# no. of rows = no. of unique users\n",
    "# no. of columns = no. of unique movies\n",
    "# if user has not rated a movie, cell is filled with zero\n",
    "\n",
    "# iterrate through each row\n",
    "# line[1] refers to user_id (row) > subtracting 1 as array indexing starts from 0\n",
    "# line[2] refers to movie_id (column) > subtracting 1 for consistency\n",
    "# for the specific row and column, add line[3] which is the movie rating\n",
    "    \n",
    "train_matrix = np.zeros((num_users_train, num_items_train))\n",
    "for line in train_df.itertuples():   \n",
    "    train_matrix[line[1]-1, line[2]-1] = line[3]\n",
    "    \n",
    "test_matrix = np.zeros((num_users_test, num_items_test))\n",
    "for line in test_df.itertuples():   \n",
    "    test_matrix[line[1]-1, line[2]-1] = line[3]  "
   ]
  },
  {
   "cell_type": "markdown",
   "metadata": {},
   "source": [
    "##### 3.1.1. User-User Collaborative Filtering\n",
    "\n",
    "Let's first create a similarity matrix which indicates the similarity between two users, based on the ratings that they have given to different movies. \n",
    "\n",
    "The 'cosine similarity' metric, which computes the dot product between two vectors comprising ratings of the movies given, will be used."
   ]
  },
  {
   "cell_type": "code",
   "execution_count": 26,
   "metadata": {},
   "outputs": [
    {
     "name": "stdout",
     "output_type": "stream",
     "text": [
      "Shape: (943, 943)\n"
     ]
    }
   ],
   "source": [
    "# compute user-user similarity\n",
    "user_similarity = pairwise_distances(train_matrix, metric='cosine')\n",
    "print(f'Shape: {user_similarity.shape}')"
   ]
  },
  {
   "cell_type": "markdown",
   "metadata": {},
   "source": [
    "The user similarity matrix has a shape of 943 x 943 which corresponds to the number of unique users present. \n",
    "\n",
    "We will then predict the values in the user-item matrix, and consider only the top 50 users which are similar to the identified user. "
   ]
  },
  {
   "cell_type": "code",
   "execution_count": 27,
   "metadata": {},
   "outputs": [],
   "source": [
    "# create function to predict values in user-user\n",
    "def predict_user_user(train_matrix, user_similarity, n_similar):\n",
    "    \n",
    "    # sort from smallest to largest, feature only index, but extract only top num\n",
    "    similar_n = user_similarity.argsort()[:,-n_similar].reshape(-1,1)[:,::-1]   \n",
    "    preds = np.zeros((num_users_train, num_items_train))\n",
    "    \n",
    "    for i,users in enumerate(similar_n):\n",
    "        similar_users_indexes = users\n",
    "        similarity_n = user_similarity[i,similar_users_indexes]\n",
    "        matrix_n = train_matrix[similar_users_indexes,:]\n",
    "        # normalise ratings of users by subtracting mean rating of a user from every rating given by user\n",
    "        rated_items = similarity_n[:,np.newaxis].T.dot(matrix_n-matrix_n.mean(axis=1)[:,np.newaxis]) / similarity_n.sum()\n",
    "        preds[i,:] = rated_items\n",
    "        \n",
    "    return preds"
   ]
  },
  {
   "cell_type": "code",
   "execution_count": 28,
   "metadata": {},
   "outputs": [
    {
     "name": "stdout",
     "output_type": "stream",
     "text": [
      "Shape of predictions: (943, 1682)\n"
     ]
    },
    {
     "data": {
      "text/plain": [
       "array([[0.52675386, 0.52675386, 0.52675386, ..., 0.52675386, 0.52675386,\n",
       "        0.52675386],\n",
       "       [0.07728894, 0.07728894, 0.07728894, ..., 0.07728894, 0.07728894,\n",
       "        0.07728894],\n",
       "       [0.03151011, 0.03151011, 0.03151011, ..., 0.03151011, 0.03151011,\n",
       "        0.03151011],\n",
       "       ...,\n",
       "       [0.00832342, 0.00832342, 0.00832342, ..., 0.00832342, 0.00832342,\n",
       "        0.00832342],\n",
       "       [0.1510107 , 0.1510107 , 0.1510107 , ..., 0.1510107 , 0.1510107 ,\n",
       "        0.1510107 ],\n",
       "       [0.28894174, 0.28894174, 0.28894174, ..., 0.28894174, 0.28894174,\n",
       "        0.28894174]])"
      ]
     },
     "execution_count": 28,
     "metadata": {},
     "output_type": "execute_result"
    }
   ],
   "source": [
    "# apply function to predict rating by identified user (based on ratings by similar users)\n",
    "# add back mean rating (that was subtracted earlier) to derive final predicted\n",
    "predictions_uu = predict_user_user(train_matrix, user_similarity, n_similar=50) + train_matrix.mean(axis=1)[:,np.newaxis]\n",
    "print(f'Shape of predictions: {predictions_uu.shape}')\n",
    "\n",
    "# view predictions\n",
    "predictions_uu"
   ]
  },
  {
   "cell_type": "markdown",
   "metadata": {},
   "source": [
    "With the derived predictions, we will consider ratings that are not listed as zero in the test matrix. \n",
    "\n",
    "Thereafter, we will compute the root mean squared error (RMSE) to identify how different the predictions are compared to the actual values. "
   ]
  },
  {
   "cell_type": "code",
   "execution_count": 29,
   "metadata": {},
   "outputs": [
    {
     "name": "stdout",
     "output_type": "stream",
     "text": [
      "RMSE for User-User Collaborative Filtering: 3.5703075962160553\n"
     ]
    }
   ],
   "source": [
    "# apply predictions to test_matrix\n",
    "pred_ratings_uu = predictions_uu[test_matrix.nonzero()]\n",
    "test_actual_uu = test_matrix[test_matrix.nonzero()]\n",
    "\n",
    "# compute error\n",
    "user_user_error = math.sqrt(mean_squared_error(pred_ratings_uu,test_actual_uu))\n",
    "print(f'RMSE for User-User Collaborative Filtering: {user_user_error}')"
   ]
  },
  {
   "cell_type": "markdown",
   "metadata": {},
   "source": [
    "##### 3.1.2. Item-Item Collaborative Filtering\n",
    "\n",
    "We will now create a similarity matrix which indicates the similarity between two items, using the 'cosine similarity' metric.\n",
    "\n",
    "We will be generating ratings for movies that have not been rated. "
   ]
  },
  {
   "cell_type": "code",
   "execution_count": 30,
   "metadata": {},
   "outputs": [
    {
     "name": "stdout",
     "output_type": "stream",
     "text": [
      "Shape: (1682, 1682)\n"
     ]
    }
   ],
   "source": [
    "# compute item-item similarity\n",
    "item_similarity = pairwise_distances(train_matrix.T, metric='cosine')\n",
    "print(f'Shape: {item_similarity.shape}')"
   ]
  },
  {
   "cell_type": "markdown",
   "metadata": {},
   "source": [
    "The item similarity matrix has a shape of 1682 x 1682 which corresponds to the number of unique movies present. \n",
    "\n",
    "We will then predict the values in the user-item matrix, and consider only the top 50 items which are similar to the identified item. "
   ]
  },
  {
   "cell_type": "code",
   "execution_count": 31,
   "metadata": {},
   "outputs": [],
   "source": [
    "# create function to predict values in item-item\n",
    "def predict_item_item(train_matrix, item_similarity, n_similar):\n",
    "    \n",
    "    # sort from smallest to largest, feature only index, but extract only top num\n",
    "    similar_n = item_similarity.argsort()[:,-n_similar].reshape(-1,1)[:,::-1]\n",
    "    preds = np.zeros((num_users_train, num_items_train))\n",
    "    \n",
    "    for i,items in enumerate(similar_n):\n",
    "        similar_items_indexes = items\n",
    "        similarity_n = item_similarity[i,similar_items_indexes]\n",
    "        matrix_n = train_matrix[:,similar_items_indexes]\n",
    "        # will not need to normalise here for items \n",
    "        rated_items = matrix_n.dot(similarity_n) / similarity_n.sum()\n",
    "        preds[:,i] = rated_items\n",
    "        \n",
    "    return preds"
   ]
  },
  {
   "cell_type": "code",
   "execution_count": 32,
   "metadata": {},
   "outputs": [
    {
     "name": "stdout",
     "output_type": "stream",
     "text": [
      "Shape of predictions: (943, 1682)\n"
     ]
    },
    {
     "data": {
      "text/plain": [
       "array([[0., 0., 0., ..., 0., 0., 0.],\n",
       "       [0., 0., 0., ..., 0., 0., 0.],\n",
       "       [0., 0., 0., ..., 0., 0., 0.],\n",
       "       ...,\n",
       "       [0., 0., 0., ..., 0., 0., 0.],\n",
       "       [0., 0., 0., ..., 0., 0., 0.],\n",
       "       [0., 0., 0., ..., 0., 0., 0.]])"
      ]
     },
     "execution_count": 32,
     "metadata": {},
     "output_type": "execute_result"
    }
   ],
   "source": [
    "# apply function to predict rating for identified item \n",
    "predictions_ii = predict_item_item(train_matrix, item_similarity, n_similar=50)\n",
    "print(f'Shape of predictions: {predictions_ii.shape}')\n",
    "\n",
    "# view predictions\n",
    "predictions_ii"
   ]
  },
  {
   "cell_type": "markdown",
   "metadata": {},
   "source": [
    "With the derived predictions, we will consider ratings that are not listed as zero in the test matrix. We will then compute the RMSE to identify how different the predictions are compared to the actual values. "
   ]
  },
  {
   "cell_type": "code",
   "execution_count": 33,
   "metadata": {},
   "outputs": [
    {
     "name": "stdout",
     "output_type": "stream",
     "text": [
      "RMSE for Item-Item Collaborative Filtering: 3.7528921332397456\n"
     ]
    }
   ],
   "source": [
    "# apply predictions to test_matrix\n",
    "pred_ratings_ii = predictions_ii[test_matrix.nonzero()]\n",
    "test_actual_ii = test_matrix[test_matrix.nonzero()]\n",
    "\n",
    "# compute error\n",
    "item_item_error = math.sqrt(mean_squared_error(pred_ratings_ii,test_actual_ii))\n",
    "print(f'RMSE for Item-Item Collaborative Filtering: {item_item_error}')"
   ]
  },
  {
   "cell_type": "markdown",
   "metadata": {},
   "source": [
    "Comparing the RMSE scores, it seems like the User-User Collaborative Filtering model is performing slightly better. \n",
    "- RMSE for User-User Collaborative Filtering: 3.5703075962160553\n",
    "- RMSE for Item-Item Collaborative Filtering: 3.7528921332397456"
   ]
  },
  {
   "cell_type": "markdown",
   "metadata": {},
   "source": [
    "#### 3.2. Getting Recommendations\n",
    "\n",
    "Over here, we will provide recommendations for a user, based on the highest predicted ratings for a particular user. \n",
    "\n",
    "We will obtain recommendations for user with `user_id` 100, using the User-User Collaborative Filtering model."
   ]
  },
  {
   "cell_type": "code",
   "execution_count": 34,
   "metadata": {},
   "outputs": [],
   "source": [
    "# generate recommendations for user with 'user_id' 100\n",
    "user_id = 100\n",
    "user_ratings = predictions_uu[user_id-1,:]"
   ]
  },
  {
   "cell_type": "markdown",
   "metadata": {},
   "source": [
    "We will identify the indices of movies in which the user has not provided ratings yet, and generate ratings for them."
   ]
  },
  {
   "cell_type": "code",
   "execution_count": 35,
   "metadata": {},
   "outputs": [
    {
     "data": {
      "text/plain": [
       "(1633,)"
      ]
     },
     "execution_count": 35,
     "metadata": {},
     "output_type": "execute_result"
    }
   ],
   "source": [
    "# generate ratings for movies not rated\n",
    "train_unknown_indices = np.where(train_matrix[user_id-1,:]==0)\n",
    "user_recommend = user_ratings[train_unknown_indices]\n",
    "\n",
    "# view shape\n",
    "user_recommend.shape"
   ]
  },
  {
   "cell_type": "code",
   "execution_count": 36,
   "metadata": {},
   "outputs": [
    {
     "name": "stdout",
     "output_type": "stream",
     "text": [
      "The movie recommendations for user 100 are:\n",
      "246\n",
      "100\n",
      "267\n",
      "1332\n",
      "943\n"
     ]
    }
   ],
   "source": [
    "# generate movie recommendations\n",
    "recommended_movies = []\n",
    "print(f'The movie recommendations for user {user_id} are:')\n",
    "for movie_id in user_recommend.argsort()[-5:][::-1]:\n",
    "    recommended_movies.append(movie_id+1)\n",
    "    print(movie_id+1)"
   ]
  },
  {
   "cell_type": "code",
   "execution_count": 37,
   "metadata": {},
   "outputs": [
    {
     "data": {
      "text/html": [
       "<div>\n",
       "<style scoped>\n",
       "    .dataframe tbody tr th:only-of-type {\n",
       "        vertical-align: middle;\n",
       "    }\n",
       "\n",
       "    .dataframe tbody tr th {\n",
       "        vertical-align: top;\n",
       "    }\n",
       "\n",
       "    .dataframe thead th {\n",
       "        text-align: right;\n",
       "    }\n",
       "</style>\n",
       "<table border=\"1\" class=\"dataframe\">\n",
       "  <thead>\n",
       "    <tr style=\"text-align: right;\">\n",
       "      <th></th>\n",
       "      <th>movie_id</th>\n",
       "      <th>movie_title</th>\n",
       "      <th>release_date</th>\n",
       "      <th>imdb_url</th>\n",
       "      <th>genre_action</th>\n",
       "      <th>genre_adventure</th>\n",
       "      <th>genre_animation</th>\n",
       "      <th>genre_children</th>\n",
       "      <th>genre_comedy</th>\n",
       "      <th>genre_crime</th>\n",
       "      <th>...</th>\n",
       "      <th>genre_fantasy</th>\n",
       "      <th>genre_film_noir</th>\n",
       "      <th>genre_horror</th>\n",
       "      <th>genre_musical</th>\n",
       "      <th>genre_mystery</th>\n",
       "      <th>genre_romance</th>\n",
       "      <th>genre_scifi</th>\n",
       "      <th>genre_thriller</th>\n",
       "      <th>genre_war</th>\n",
       "      <th>genre_western</th>\n",
       "    </tr>\n",
       "  </thead>\n",
       "  <tbody>\n",
       "    <tr>\n",
       "      <th>99</th>\n",
       "      <td>100</td>\n",
       "      <td>Fargo (1996)</td>\n",
       "      <td>1997-02-14</td>\n",
       "      <td>http://us.imdb.com/M/title-exact?Fargo%20(1996)</td>\n",
       "      <td>0</td>\n",
       "      <td>0</td>\n",
       "      <td>0</td>\n",
       "      <td>0</td>\n",
       "      <td>0</td>\n",
       "      <td>1</td>\n",
       "      <td>...</td>\n",
       "      <td>0</td>\n",
       "      <td>0</td>\n",
       "      <td>0</td>\n",
       "      <td>0</td>\n",
       "      <td>0</td>\n",
       "      <td>0</td>\n",
       "      <td>0</td>\n",
       "      <td>1</td>\n",
       "      <td>0</td>\n",
       "      <td>0</td>\n",
       "    </tr>\n",
       "    <tr>\n",
       "      <th>245</th>\n",
       "      <td>246</td>\n",
       "      <td>Chasing Amy (1997)</td>\n",
       "      <td>1997-01-01</td>\n",
       "      <td>http://us.imdb.com/M/title-exact?Chasing+Amy+(...</td>\n",
       "      <td>0</td>\n",
       "      <td>0</td>\n",
       "      <td>0</td>\n",
       "      <td>0</td>\n",
       "      <td>0</td>\n",
       "      <td>0</td>\n",
       "      <td>...</td>\n",
       "      <td>0</td>\n",
       "      <td>0</td>\n",
       "      <td>0</td>\n",
       "      <td>0</td>\n",
       "      <td>0</td>\n",
       "      <td>1</td>\n",
       "      <td>0</td>\n",
       "      <td>0</td>\n",
       "      <td>0</td>\n",
       "      <td>0</td>\n",
       "    </tr>\n",
       "    <tr>\n",
       "      <th>266</th>\n",
       "      <td>267</td>\n",
       "      <td>unknown</td>\n",
       "      <td>NaT</td>\n",
       "      <td>NaN</td>\n",
       "      <td>0</td>\n",
       "      <td>0</td>\n",
       "      <td>0</td>\n",
       "      <td>0</td>\n",
       "      <td>0</td>\n",
       "      <td>0</td>\n",
       "      <td>...</td>\n",
       "      <td>0</td>\n",
       "      <td>0</td>\n",
       "      <td>0</td>\n",
       "      <td>0</td>\n",
       "      <td>0</td>\n",
       "      <td>0</td>\n",
       "      <td>0</td>\n",
       "      <td>0</td>\n",
       "      <td>0</td>\n",
       "      <td>0</td>\n",
       "    </tr>\n",
       "    <tr>\n",
       "      <th>942</th>\n",
       "      <td>943</td>\n",
       "      <td>Killing Zoe (1994)</td>\n",
       "      <td>1994-01-01</td>\n",
       "      <td>http://us.imdb.com/M/title-exact?Killing%20Zoe...</td>\n",
       "      <td>0</td>\n",
       "      <td>0</td>\n",
       "      <td>0</td>\n",
       "      <td>0</td>\n",
       "      <td>0</td>\n",
       "      <td>0</td>\n",
       "      <td>...</td>\n",
       "      <td>0</td>\n",
       "      <td>0</td>\n",
       "      <td>0</td>\n",
       "      <td>0</td>\n",
       "      <td>0</td>\n",
       "      <td>0</td>\n",
       "      <td>0</td>\n",
       "      <td>1</td>\n",
       "      <td>0</td>\n",
       "      <td>0</td>\n",
       "    </tr>\n",
       "    <tr>\n",
       "      <th>1331</th>\n",
       "      <td>1332</td>\n",
       "      <td>My Life and Times With Antonin Artaud (En comp...</td>\n",
       "      <td>1993-01-01</td>\n",
       "      <td>http://us.imdb.com/M/title-exact?En%20compagni...</td>\n",
       "      <td>0</td>\n",
       "      <td>0</td>\n",
       "      <td>0</td>\n",
       "      <td>0</td>\n",
       "      <td>0</td>\n",
       "      <td>0</td>\n",
       "      <td>...</td>\n",
       "      <td>0</td>\n",
       "      <td>0</td>\n",
       "      <td>0</td>\n",
       "      <td>0</td>\n",
       "      <td>0</td>\n",
       "      <td>0</td>\n",
       "      <td>0</td>\n",
       "      <td>0</td>\n",
       "      <td>0</td>\n",
       "      <td>0</td>\n",
       "    </tr>\n",
       "  </tbody>\n",
       "</table>\n",
       "<p>5 rows × 22 columns</p>\n",
       "</div>"
      ],
      "text/plain": [
       "      movie_id                                        movie_title  \\\n",
       "99         100                                       Fargo (1996)   \n",
       "245        246                                 Chasing Amy (1997)   \n",
       "266        267                                            unknown   \n",
       "942        943                                 Killing Zoe (1994)   \n",
       "1331      1332  My Life and Times With Antonin Artaud (En comp...   \n",
       "\n",
       "     release_date                                           imdb_url  \\\n",
       "99     1997-02-14    http://us.imdb.com/M/title-exact?Fargo%20(1996)   \n",
       "245    1997-01-01  http://us.imdb.com/M/title-exact?Chasing+Amy+(...   \n",
       "266           NaT                                                NaN   \n",
       "942    1994-01-01  http://us.imdb.com/M/title-exact?Killing%20Zoe...   \n",
       "1331   1993-01-01  http://us.imdb.com/M/title-exact?En%20compagni...   \n",
       "\n",
       "      genre_action  genre_adventure  genre_animation  genre_children  \\\n",
       "99               0                0                0               0   \n",
       "245              0                0                0               0   \n",
       "266              0                0                0               0   \n",
       "942              0                0                0               0   \n",
       "1331             0                0                0               0   \n",
       "\n",
       "      genre_comedy  genre_crime  ...  genre_fantasy  genre_film_noir  \\\n",
       "99               0            1  ...              0                0   \n",
       "245              0            0  ...              0                0   \n",
       "266              0            0  ...              0                0   \n",
       "942              0            0  ...              0                0   \n",
       "1331             0            0  ...              0                0   \n",
       "\n",
       "      genre_horror  genre_musical  genre_mystery  genre_romance  genre_scifi  \\\n",
       "99               0              0              0              0            0   \n",
       "245              0              0              0              1            0   \n",
       "266              0              0              0              0            0   \n",
       "942              0              0              0              0            0   \n",
       "1331             0              0              0              0            0   \n",
       "\n",
       "      genre_thriller  genre_war  genre_western  \n",
       "99                 1          0              0  \n",
       "245                0          0              0  \n",
       "266                0          0              0  \n",
       "942                1          0              0  \n",
       "1331               0          0              0  \n",
       "\n",
       "[5 rows x 22 columns]"
      ]
     },
     "execution_count": 37,
     "metadata": {},
     "output_type": "execute_result"
    }
   ],
   "source": [
    "# view movie title and genres\n",
    "rec_movies_df = movies_df[movies_df['movie_id'].isin(recommended_movies)]\n",
    "rec_movies_df"
   ]
  },
  {
   "cell_type": "markdown",
   "metadata": {},
   "source": [
    "Great! We have managed to identify the top 5 movie recommendations for `user_id` 100, using our predictions from the User-User Collaborative Filtering model."
   ]
  },
  {
   "cell_type": "markdown",
   "metadata": {},
   "source": [
    "#### 3.3. Singular Value Decomposition \n",
    "\n",
    "Let's attempt to apply Singular Value Decomposition (SVD) to improve the RMSE of the previous models. SVD is often used to find the missing values in a matrix, by decomposing a matrix into three matrices - of which one contains a diagonal matrix and the other two are regular rectangular matrices. \n",
    "\n",
    "**X = U x S x V^T**"
   ]
  },
  {
   "cell_type": "code",
   "execution_count": 38,
   "metadata": {},
   "outputs": [
    {
     "name": "stdout",
     "output_type": "stream",
     "text": [
      "(943, 20)\n",
      "(20,)\n",
      "(20, 1682)\n"
     ]
    }
   ],
   "source": [
    "# instantiate svd\n",
    "u,s,vt = svds(train_matrix, k=20)\n",
    "\n",
    "# view shapes\n",
    "print(u.shape)\n",
    "print(s.shape)\n",
    "print(vt.shape)"
   ]
  },
  {
   "cell_type": "code",
   "execution_count": 39,
   "metadata": {},
   "outputs": [
    {
     "data": {
      "text/plain": [
       "(20, 20)"
      ]
     },
     "execution_count": 39,
     "metadata": {},
     "output_type": "execute_result"
    }
   ],
   "source": [
    "# create a diagonal matrix for s\n",
    "s_diag_matrix = np.diag(s)\n",
    "s_diag_matrix.shape"
   ]
  },
  {
   "cell_type": "markdown",
   "metadata": {},
   "source": [
    "The predictions will be generated by computing the dot product of the three matrices."
   ]
  },
  {
   "cell_type": "code",
   "execution_count": 40,
   "metadata": {},
   "outputs": [
    {
     "data": {
      "text/plain": [
       "(943, 1682)"
      ]
     },
     "execution_count": 40,
     "metadata": {},
     "output_type": "execute_result"
    }
   ],
   "source": [
    "# generate predictions\n",
    "predictions_svd = np.dot(np.dot(u,s_diag_matrix),vt)\n",
    "\n",
    "# view shape\n",
    "predictions_svd.shape"
   ]
  },
  {
   "cell_type": "markdown",
   "metadata": {},
   "source": [
    "Similarly, we will consider ratings that are not listed as zero in the test matrix, followed by computing the RMSE. "
   ]
  },
  {
   "cell_type": "code",
   "execution_count": 41,
   "metadata": {},
   "outputs": [
    {
     "name": "stdout",
     "output_type": "stream",
     "text": [
      "RMSE for Singular Value Decomposition: 2.8258075694458302\n"
     ]
    }
   ],
   "source": [
    "# apply predictions to test_matrix\n",
    "pred_ratings_svd = predictions_svd[test_matrix.nonzero()]\n",
    "test_actual = test_matrix[test_matrix.nonzero()]\n",
    "\n",
    "# compute error\n",
    "svd_error = math.sqrt(mean_squared_error(pred_ratings_svd,test_actual))\n",
    "print(f'RMSE for Singular Value Decomposition: {svd_error}')"
   ]
  },
  {
   "cell_type": "markdown",
   "metadata": {},
   "source": [
    "Comparing the RMSE scores, it seems like the Singular Value Decomposition model is performing the best, as compared to both Collaborative Filtering models. \n",
    "- RMSE for User-User Collaborative Filtering: 3.5703075962160553\n",
    "- RMSE for Item-Item Collaborative Filtering: 3.7528921332397456\n",
    "- RMSE for Singular Value Decomposition: 2.8258075694458302\n",
    "\n",
    "Let's generate the movie recommendations for `user_id` using Singular Value Decomposition."
   ]
  },
  {
   "cell_type": "code",
   "execution_count": 42,
   "metadata": {},
   "outputs": [
    {
     "data": {
      "text/plain": [
       "(1633,)"
      ]
     },
     "execution_count": 42,
     "metadata": {},
     "output_type": "execute_result"
    }
   ],
   "source": [
    "# generate recommendations for user with 'user_id' 100\n",
    "user_id = 100\n",
    "user_ratings = predictions_svd[user_id-1,:]\n",
    "\n",
    "# generate ratings for movies not rated\n",
    "train_unknown_indices = np.where(train_matrix[user_id-1,:]==0)[0]\n",
    "user_recommend = user_ratings[train_unknown_indices]\n",
    "\n",
    "# view shape\n",
    "user_recommend.shape"
   ]
  },
  {
   "cell_type": "code",
   "execution_count": 43,
   "metadata": {},
   "outputs": [
    {
     "name": "stdout",
     "output_type": "stream",
     "text": [
      "The movie recommendations for user 100 are:\n",
      "292\n",
      "297\n",
      "291\n",
      "723\n",
      "322\n"
     ]
    }
   ],
   "source": [
    "# generate movie recommendations\n",
    "recommended_movies = []\n",
    "print(f'The movie recommendations for user {user_id} are:')\n",
    "for movie_id in user_recommend.argsort()[-5:][::-1]:\n",
    "    recommended_movies.append(movie_id+1)\n",
    "    print(movie_id+1)"
   ]
  },
  {
   "cell_type": "code",
   "execution_count": 44,
   "metadata": {},
   "outputs": [
    {
     "data": {
      "text/html": [
       "<div>\n",
       "<style scoped>\n",
       "    .dataframe tbody tr th:only-of-type {\n",
       "        vertical-align: middle;\n",
       "    }\n",
       "\n",
       "    .dataframe tbody tr th {\n",
       "        vertical-align: top;\n",
       "    }\n",
       "\n",
       "    .dataframe thead th {\n",
       "        text-align: right;\n",
       "    }\n",
       "</style>\n",
       "<table border=\"1\" class=\"dataframe\">\n",
       "  <thead>\n",
       "    <tr style=\"text-align: right;\">\n",
       "      <th></th>\n",
       "      <th>movie_id</th>\n",
       "      <th>movie_title</th>\n",
       "      <th>release_date</th>\n",
       "      <th>imdb_url</th>\n",
       "      <th>genre_action</th>\n",
       "      <th>genre_adventure</th>\n",
       "      <th>genre_animation</th>\n",
       "      <th>genre_children</th>\n",
       "      <th>genre_comedy</th>\n",
       "      <th>genre_crime</th>\n",
       "      <th>...</th>\n",
       "      <th>genre_fantasy</th>\n",
       "      <th>genre_film_noir</th>\n",
       "      <th>genre_horror</th>\n",
       "      <th>genre_musical</th>\n",
       "      <th>genre_mystery</th>\n",
       "      <th>genre_romance</th>\n",
       "      <th>genre_scifi</th>\n",
       "      <th>genre_thriller</th>\n",
       "      <th>genre_war</th>\n",
       "      <th>genre_western</th>\n",
       "    </tr>\n",
       "  </thead>\n",
       "  <tbody>\n",
       "    <tr>\n",
       "      <th>290</th>\n",
       "      <td>291</td>\n",
       "      <td>Absolute Power (1997)</td>\n",
       "      <td>1997-02-14</td>\n",
       "      <td>http://us.imdb.com/M/title-exact?Absolute%20Po...</td>\n",
       "      <td>0</td>\n",
       "      <td>0</td>\n",
       "      <td>0</td>\n",
       "      <td>0</td>\n",
       "      <td>0</td>\n",
       "      <td>0</td>\n",
       "      <td>...</td>\n",
       "      <td>0</td>\n",
       "      <td>0</td>\n",
       "      <td>0</td>\n",
       "      <td>0</td>\n",
       "      <td>1</td>\n",
       "      <td>0</td>\n",
       "      <td>0</td>\n",
       "      <td>1</td>\n",
       "      <td>0</td>\n",
       "      <td>0</td>\n",
       "    </tr>\n",
       "    <tr>\n",
       "      <th>291</th>\n",
       "      <td>292</td>\n",
       "      <td>Rosewood (1997)</td>\n",
       "      <td>1997-02-21</td>\n",
       "      <td>http://us.imdb.com/M/title-exact?Rosewood%20(1...</td>\n",
       "      <td>0</td>\n",
       "      <td>0</td>\n",
       "      <td>0</td>\n",
       "      <td>0</td>\n",
       "      <td>0</td>\n",
       "      <td>0</td>\n",
       "      <td>...</td>\n",
       "      <td>0</td>\n",
       "      <td>0</td>\n",
       "      <td>0</td>\n",
       "      <td>0</td>\n",
       "      <td>0</td>\n",
       "      <td>0</td>\n",
       "      <td>0</td>\n",
       "      <td>0</td>\n",
       "      <td>0</td>\n",
       "      <td>0</td>\n",
       "    </tr>\n",
       "    <tr>\n",
       "      <th>296</th>\n",
       "      <td>297</td>\n",
       "      <td>Ulee's Gold (1997)</td>\n",
       "      <td>1997-01-01</td>\n",
       "      <td>http://us.imdb.com/M/title-exact?Ulee%27s+Gold...</td>\n",
       "      <td>0</td>\n",
       "      <td>0</td>\n",
       "      <td>0</td>\n",
       "      <td>0</td>\n",
       "      <td>0</td>\n",
       "      <td>0</td>\n",
       "      <td>...</td>\n",
       "      <td>0</td>\n",
       "      <td>0</td>\n",
       "      <td>0</td>\n",
       "      <td>0</td>\n",
       "      <td>0</td>\n",
       "      <td>0</td>\n",
       "      <td>0</td>\n",
       "      <td>0</td>\n",
       "      <td>0</td>\n",
       "      <td>0</td>\n",
       "    </tr>\n",
       "    <tr>\n",
       "      <th>321</th>\n",
       "      <td>322</td>\n",
       "      <td>Murder at 1600 (1997)</td>\n",
       "      <td>1997-04-18</td>\n",
       "      <td>http://us.imdb.com/M/title-exact?Murder%20at%2...</td>\n",
       "      <td>0</td>\n",
       "      <td>0</td>\n",
       "      <td>0</td>\n",
       "      <td>0</td>\n",
       "      <td>0</td>\n",
       "      <td>0</td>\n",
       "      <td>...</td>\n",
       "      <td>0</td>\n",
       "      <td>0</td>\n",
       "      <td>0</td>\n",
       "      <td>0</td>\n",
       "      <td>1</td>\n",
       "      <td>0</td>\n",
       "      <td>0</td>\n",
       "      <td>1</td>\n",
       "      <td>0</td>\n",
       "      <td>0</td>\n",
       "    </tr>\n",
       "    <tr>\n",
       "      <th>722</th>\n",
       "      <td>723</td>\n",
       "      <td>Boys on the Side (1995)</td>\n",
       "      <td>1995-01-01</td>\n",
       "      <td>http://us.imdb.com/M/title-exact?Boys%20on%20t...</td>\n",
       "      <td>0</td>\n",
       "      <td>0</td>\n",
       "      <td>0</td>\n",
       "      <td>0</td>\n",
       "      <td>1</td>\n",
       "      <td>0</td>\n",
       "      <td>...</td>\n",
       "      <td>0</td>\n",
       "      <td>0</td>\n",
       "      <td>0</td>\n",
       "      <td>0</td>\n",
       "      <td>0</td>\n",
       "      <td>0</td>\n",
       "      <td>0</td>\n",
       "      <td>0</td>\n",
       "      <td>0</td>\n",
       "      <td>0</td>\n",
       "    </tr>\n",
       "  </tbody>\n",
       "</table>\n",
       "<p>5 rows × 22 columns</p>\n",
       "</div>"
      ],
      "text/plain": [
       "     movie_id              movie_title release_date  \\\n",
       "290       291    Absolute Power (1997)   1997-02-14   \n",
       "291       292          Rosewood (1997)   1997-02-21   \n",
       "296       297       Ulee's Gold (1997)   1997-01-01   \n",
       "321       322    Murder at 1600 (1997)   1997-04-18   \n",
       "722       723  Boys on the Side (1995)   1995-01-01   \n",
       "\n",
       "                                              imdb_url  genre_action  \\\n",
       "290  http://us.imdb.com/M/title-exact?Absolute%20Po...             0   \n",
       "291  http://us.imdb.com/M/title-exact?Rosewood%20(1...             0   \n",
       "296  http://us.imdb.com/M/title-exact?Ulee%27s+Gold...             0   \n",
       "321  http://us.imdb.com/M/title-exact?Murder%20at%2...             0   \n",
       "722  http://us.imdb.com/M/title-exact?Boys%20on%20t...             0   \n",
       "\n",
       "     genre_adventure  genre_animation  genre_children  genre_comedy  \\\n",
       "290                0                0               0             0   \n",
       "291                0                0               0             0   \n",
       "296                0                0               0             0   \n",
       "321                0                0               0             0   \n",
       "722                0                0               0             1   \n",
       "\n",
       "     genre_crime  ...  genre_fantasy  genre_film_noir  genre_horror  \\\n",
       "290            0  ...              0                0             0   \n",
       "291            0  ...              0                0             0   \n",
       "296            0  ...              0                0             0   \n",
       "321            0  ...              0                0             0   \n",
       "722            0  ...              0                0             0   \n",
       "\n",
       "     genre_musical  genre_mystery  genre_romance  genre_scifi  genre_thriller  \\\n",
       "290              0              1              0            0               1   \n",
       "291              0              0              0            0               0   \n",
       "296              0              0              0            0               0   \n",
       "321              0              1              0            0               1   \n",
       "722              0              0              0            0               0   \n",
       "\n",
       "     genre_war  genre_western  \n",
       "290          0              0  \n",
       "291          0              0  \n",
       "296          0              0  \n",
       "321          0              0  \n",
       "722          0              0  \n",
       "\n",
       "[5 rows x 22 columns]"
      ]
     },
     "execution_count": 44,
     "metadata": {},
     "output_type": "execute_result"
    }
   ],
   "source": [
    "# view movie title and genres\n",
    "rec_movies_df = movies_df[movies_df['movie_id'].isin(recommended_movies)]\n",
    "rec_movies_df"
   ]
  },
  {
   "cell_type": "markdown",
   "metadata": {},
   "source": [
    "Nice! We have managed to identify another 5 movie recommendations for `user_id` 100, using our predictions from the Singular Value Decomposition model."
   ]
  },
  {
   "cell_type": "markdown",
   "metadata": {},
   "source": [
    "### 4. Next Steps\n",
    "\n",
    "In this project, we have explored building a movie recommendation system for users using Collaborative Filtering (user-user and item-item), as well as Singular Value Decomposition. Other models that can be explored subsequently would include matrix factorisation, deep learning, etc. "
   ]
  }
 ],
 "metadata": {
  "kernelspec": {
   "display_name": "Python 3",
   "language": "python",
   "name": "python3"
  },
  "language_info": {
   "codemirror_mode": {
    "name": "ipython",
    "version": 3
   },
   "file_extension": ".py",
   "mimetype": "text/x-python",
   "name": "python",
   "nbconvert_exporter": "python",
   "pygments_lexer": "ipython3",
   "version": "3.8.5"
  },
  "toc-autonumbering": false,
  "toc-showmarkdowntxt": false
 },
 "nbformat": 4,
 "nbformat_minor": 4
}
